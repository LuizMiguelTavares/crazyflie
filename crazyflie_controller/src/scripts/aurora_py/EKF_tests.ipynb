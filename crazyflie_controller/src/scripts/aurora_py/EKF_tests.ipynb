{
 "cells": [
  {
   "cell_type": "code",
   "execution_count": 13,
   "metadata": {},
   "outputs": [
    {
     "data": {
      "text/plain": [
       "(Matrix([\n",
       " [1, 0, 0,                     dt,                      0,  0],\n",
       " [0, 1, 0,                      0,                     dt,  0],\n",
       " [0, 0, 1,                      0,                      0, dt],\n",
       " [0, 0, 0, -Kvx*dt*cos(psi)/m + 1,     -Kvy*dt*sin(psi)/m,  0],\n",
       " [0, 0, 0,      Kvx*dt*sin(psi)/m, -Kvy*dt*cos(psi)/m + 1,  0],\n",
       " [0, 0, 0,                      0,                      0,  1]]),\n",
       " Matrix([\n",
       " [                          0,                           0,                                                0],\n",
       " [                          0,                           0,                                                0],\n",
       " [                          0,                           0,                                                0],\n",
       " [ dt*t*cos(psi)*cos(theta)/m,    dt*t*sin(psi)*cos(phi)/m, dt*(sin(phi)*sin(psi)/m + sin(theta)*cos(psi)/m)],\n",
       " [-dt*t*sin(psi)*cos(theta)/m,    dt*t*cos(phi)*cos(psi)/m, dt*(sin(phi)*cos(psi)/m - sin(psi)*sin(theta)/m)],\n",
       " [-dt*t*sin(theta)*cos(phi)/m, -dt*t*sin(phi)*cos(theta)/m,                         dt*cos(phi)*cos(theta)/m]]))"
      ]
     },
     "execution_count": 13,
     "metadata": {},
     "output_type": "execute_result"
    }
   ],
   "source": [
    "import sympy as sp\n",
    "import numpy as np\n",
    "\n",
    "# Define symbols for state variables and control inputs\n",
    "x, y, z = sp.symbols('x y z')\n",
    "xdot, ydot, zdot = sp.symbols('xdot ydot zdot')\n",
    "theta, phi, t = sp.symbols('theta phi t')\n",
    "psi = sp.symbols('psi')\n",
    "m, g = sp.symbols('m g')\n",
    "Kvx, Kvy = sp.symbols('Kvx Kvy')\n",
    "\n",
    "# Define the state vector\n",
    "state = sp.Matrix([x, y, z, xdot, ydot, zdot])\n",
    "\n",
    "# Define the control vector\n",
    "control = sp.Matrix([theta, phi, t])\n",
    "\n",
    "# State transition equations (dynamics of the drone)\n",
    "x_acc = -Kvx/m * xdot + t/m*sp.sin(theta)\n",
    "y_acc = -Kvy/m * ydot + t/m*sp.sin(phi)\n",
    "z_acc = t/m*sp.cos(theta)*sp.cos(phi) - g\n",
    "\n",
    "# Rotation matrix from reference frame to world frame\n",
    "R = sp.Matrix([[sp.cos(psi), sp.sin(psi), 0],\n",
    "               [-sp.sin(psi), sp.cos(psi), 0],\n",
    "               [0, 0, 1]])\n",
    "\n",
    "# World frame accelerations\n",
    "acc_world = R * sp.Matrix([x_acc, y_acc, z_acc])\n",
    "\n",
    "# Assuming a time step 'dt' for discretization\n",
    "dt = sp.symbols('dt')\n",
    "\n",
    "# Discretize the state transition equations using the Euler method\n",
    "# New state is the old state plus the derivative (from f) times dt\n",
    "x_next = x + xdot * dt\n",
    "y_next = y + ydot * dt\n",
    "z_next = z + zdot * dt\n",
    "xdot_next = xdot + acc_world[0] * dt\n",
    "ydot_next = ydot + acc_world[1] * dt\n",
    "zdot_next = zdot + acc_world[2] * dt\n",
    "\n",
    "# Discrete state transition function f_discrete\n",
    "f_discrete = sp.Matrix([x_next, y_next, z_next, xdot_next, ydot_next, zdot_next])\n",
    "\n",
    "# Compute the Jacobian of the discrete state transition function with respect to the state\n",
    "F_discrete = f_discrete.jacobian(state)\n",
    "\n",
    "# Compute the Jacobian of the discrete state transition function with respect to the control input\n",
    "G_discrete = f_discrete.jacobian(control)\n",
    "\n",
    "F_discrete, G_discrete"
   ]
  },
  {
   "cell_type": "code",
   "execution_count": 14,
   "metadata": {},
   "outputs": [
    {
     "data": {
      "text/latex": [
       "$\\displaystyle \\left[\\begin{matrix}1 & 0 & 0 & 0.1 & 0 & 0\\\\0 & 1 & 0 & 0 & 0.1 & 0\\\\0 & 0 & 1 & 0 & 0 & 0.1\\\\0 & 0 & 0 & 0.9 & 0 & 0\\\\0 & 0 & 0 & 0 & 0.9 & 0\\\\0 & 0 & 0 & 0 & 0 & 1\\end{matrix}\\right]$"
      ],
      "text/plain": [
       "Matrix([\n",
       "[1, 0, 0, 0.1,   0,   0],\n",
       "[0, 1, 0,   0, 0.1,   0],\n",
       "[0, 0, 1,   0,   0, 0.1],\n",
       "[0, 0, 0, 0.9,   0,   0],\n",
       "[0, 0, 0,   0, 0.9,   0],\n",
       "[0, 0, 0,   0,   0,   1]])"
      ]
     },
     "execution_count": 14,
     "metadata": {},
     "output_type": "execute_result"
    }
   ],
   "source": [
    "F_discrete.subs([(x, 0), (y, 0), (z, 0), (xdot, 0), (ydot, 0), (zdot, 0), (theta, 0), (phi, 0), (t, 0), (psi, 0), (m, 1), (g, 9.81), (Kvx, 1), (Kvy, 1), (dt, 0.1)])"
   ]
  },
  {
   "cell_type": "code",
   "execution_count": 15,
   "metadata": {},
   "outputs": [
    {
     "data": {
      "text/latex": [
       "$\\displaystyle \\left[\\begin{matrix}0 & 0 & 0\\\\0 & 0 & 0\\\\0 & 0 & 0\\\\0 & 0 & 1.22464679914735 \\cdot 10^{-17}\\\\0 & 0 & 0\\\\0 & 0 & -0.1\\end{matrix}\\right]$"
      ],
      "text/plain": [
       "Matrix([\n",
       "[0, 0,                    0],\n",
       "[0, 0,                    0],\n",
       "[0, 0,                    0],\n",
       "[0, 0, 1.22464679914735e-17],\n",
       "[0, 0,                    0],\n",
       "[0, 0,                 -0.1]])"
      ]
     },
     "execution_count": 15,
     "metadata": {},
     "output_type": "execute_result"
    }
   ],
   "source": [
    "G_discrete.subs([(x, 0), (y, 0), (z, 0), (xdot, 0), (ydot, 0), (zdot, 0), (theta, np.pi), (phi, 0), (t, 0), (psi, 0), (m, 1), (g, 9.81), (Kvx, 1), (Kvy, 1), (dt, 0.1)])"
   ]
  },
  {
   "cell_type": "code",
   "execution_count": 5,
   "metadata": {},
   "outputs": [
    {
     "data": {
      "text/latex": [
       "$\\displaystyle \\left[\\begin{matrix}1 & 0 & 0 & 0 & 0 & 0\\\\0 & 1 & 0 & 0 & 0 & 0\\\\0 & 0 & 1 & 0 & 0 & 0\\end{matrix}\\right]$"
      ],
      "text/plain": [
       "Matrix([\n",
       "[1, 0, 0, 0, 0, 0],\n",
       "[0, 1, 0, 0, 0, 0],\n",
       "[0, 0, 1, 0, 0, 0]])"
      ]
     },
     "execution_count": 5,
     "metadata": {},
     "output_type": "execute_result"
    }
   ],
   "source": [
    "# Define the measurement vector, which directly measures position\n",
    "# For an Optitrack system, the measurements would be direct position readings\n",
    "z_measured = sp.Matrix([x, y, z])\n",
    "\n",
    "# Define the measurement function h, which maps the state to the measurement\n",
    "# In this case, it's a direct observation of the position states\n",
    "h = z_measured\n",
    "\n",
    "# Compute the Jacobian of the measurement function with respect to the state\n",
    "H = h.jacobian(state)\n",
    "\n",
    "# Display the measurement function Jacobian\n",
    "H"
   ]
  },
  {
   "cell_type": "code",
   "execution_count": 7,
   "metadata": {},
   "outputs": [
    {
     "ename": "IndexError",
     "evalue": "index 6 is out of bounds for axis 0 with size 6",
     "output_type": "error",
     "traceback": [
      "\u001b[0;31m---------------------------------------------------------------------------\u001b[0m",
      "\u001b[0;31mIndexError\u001b[0m                                Traceback (most recent call last)",
      "Cell \u001b[0;32mIn[7], line 84\u001b[0m\n\u001b[1;32m     81\u001b[0m control_input \u001b[38;5;241m=\u001b[39m np\u001b[38;5;241m.\u001b[39marray([\u001b[38;5;241m0.1\u001b[39m, \u001b[38;5;241m0.1\u001b[39m, \u001b[38;5;241m5.0\u001b[39m])\n\u001b[1;32m     83\u001b[0m \u001b[38;5;66;03m# Predict step\u001b[39;00m\n\u001b[0;32m---> 84\u001b[0m \u001b[43mdrone_ekf\u001b[49m\u001b[38;5;241;43m.\u001b[39;49m\u001b[43mpredict\u001b[49m\u001b[43m(\u001b[49m\u001b[43mcontrol_input\u001b[49m\u001b[43m)\u001b[49m\n\u001b[1;32m     86\u001b[0m \u001b[38;5;66;03m# Measurement vector (x, y, z positions)\u001b[39;00m\n\u001b[1;32m     87\u001b[0m measurement \u001b[38;5;241m=\u001b[39m np\u001b[38;5;241m.\u001b[39marray([\u001b[38;5;241m1.0\u001b[39m, \u001b[38;5;241m1.0\u001b[39m, \u001b[38;5;241m1.0\u001b[39m])\n",
      "Cell \u001b[0;32mIn[7], line 37\u001b[0m, in \u001b[0;36mExtendedKalmanFilter.predict\u001b[0;34m(self, u)\u001b[0m\n\u001b[1;32m     33\u001b[0m \u001b[38;5;28mself\u001b[39m\u001b[38;5;241m.\u001b[39mG \u001b[38;5;241m=\u001b[39m \u001b[38;5;241m.\u001b[39m\u001b[38;5;241m.\u001b[39m\u001b[38;5;241m.\u001b[39m \u001b[38;5;66;03m# replace with actual calculation\u001b[39;00m\n\u001b[1;32m     35\u001b[0m \u001b[38;5;66;03m# State prediction\u001b[39;00m\n\u001b[1;32m     36\u001b[0m \u001b[38;5;28mself\u001b[39m\u001b[38;5;241m.\u001b[39mx_hat \u001b[38;5;241m=\u001b[39m \u001b[38;5;28mself\u001b[39m\u001b[38;5;241m.\u001b[39mx_hat \u001b[38;5;241m+\u001b[39m np\u001b[38;5;241m.\u001b[39marray([\u001b[38;5;28mself\u001b[39m\u001b[38;5;241m.\u001b[39mx_hat[\u001b[38;5;241m3\u001b[39m], \u001b[38;5;28mself\u001b[39m\u001b[38;5;241m.\u001b[39mx_hat[\u001b[38;5;241m4\u001b[39m], \u001b[38;5;28mself\u001b[39m\u001b[38;5;241m.\u001b[39mx_hat[\u001b[38;5;241m5\u001b[39m],\n\u001b[0;32m---> 37\u001b[0m                                     \u001b[38;5;241m-\u001b[39mKvx\u001b[38;5;241m/\u001b[39m\u001b[38;5;28;43mself\u001b[39;49m\u001b[38;5;241;43m.\u001b[39;49m\u001b[43mx_hat\u001b[49m\u001b[43m[\u001b[49m\u001b[38;5;241;43m6\u001b[39;49m\u001b[43m]\u001b[49m \u001b[38;5;241m*\u001b[39m \u001b[38;5;28mself\u001b[39m\u001b[38;5;241m.\u001b[39mx_hat[\u001b[38;5;241m3\u001b[39m] \u001b[38;5;241m+\u001b[39m u[\u001b[38;5;241m2\u001b[39m]\u001b[38;5;241m/\u001b[39m\u001b[38;5;28mself\u001b[39m\u001b[38;5;241m.\u001b[39mx_hat[\u001b[38;5;241m6\u001b[39m]\u001b[38;5;241m*\u001b[39mnp\u001b[38;5;241m.\u001b[39msin(u[\u001b[38;5;241m0\u001b[39m]),\n\u001b[1;32m     38\u001b[0m                                     \u001b[38;5;241m-\u001b[39mKvy\u001b[38;5;241m/\u001b[39m\u001b[38;5;28mself\u001b[39m\u001b[38;5;241m.\u001b[39mx_hat[\u001b[38;5;241m6\u001b[39m] \u001b[38;5;241m*\u001b[39m \u001b[38;5;28mself\u001b[39m\u001b[38;5;241m.\u001b[39mx_hat[\u001b[38;5;241m4\u001b[39m] \u001b[38;5;241m+\u001b[39m u[\u001b[38;5;241m2\u001b[39m]\u001b[38;5;241m/\u001b[39m\u001b[38;5;28mself\u001b[39m\u001b[38;5;241m.\u001b[39mx_hat[\u001b[38;5;241m6\u001b[39m]\u001b[38;5;241m*\u001b[39mnp\u001b[38;5;241m.\u001b[39msin(u[\u001b[38;5;241m1\u001b[39m]),\n\u001b[1;32m     39\u001b[0m                                     u[\u001b[38;5;241m2\u001b[39m]\u001b[38;5;241m/\u001b[39m\u001b[38;5;28mself\u001b[39m\u001b[38;5;241m.\u001b[39mx_hat[\u001b[38;5;241m6\u001b[39m]\u001b[38;5;241m*\u001b[39mnp\u001b[38;5;241m.\u001b[39mcos(u[\u001b[38;5;241m0\u001b[39m])\u001b[38;5;241m*\u001b[39mnp\u001b[38;5;241m.\u001b[39mcos(u[\u001b[38;5;241m1\u001b[39m]) \u001b[38;5;241m-\u001b[39m g]) \u001b[38;5;241m*\u001b[39m \u001b[38;5;28mself\u001b[39m\u001b[38;5;241m.\u001b[39mdt\n\u001b[1;32m     41\u001b[0m \u001b[38;5;66;03m# Covariance prediction\u001b[39;00m\n\u001b[1;32m     42\u001b[0m \u001b[38;5;28mself\u001b[39m\u001b[38;5;241m.\u001b[39mP \u001b[38;5;241m=\u001b[39m \u001b[38;5;28mself\u001b[39m\u001b[38;5;241m.\u001b[39mF \u001b[38;5;241m@\u001b[39m \u001b[38;5;28mself\u001b[39m\u001b[38;5;241m.\u001b[39mP \u001b[38;5;241m@\u001b[39m \u001b[38;5;28mself\u001b[39m\u001b[38;5;241m.\u001b[39mF\u001b[38;5;241m.\u001b[39mT \u001b[38;5;241m+\u001b[39m \u001b[38;5;28mself\u001b[39m\u001b[38;5;241m.\u001b[39mG \u001b[38;5;241m@\u001b[39m \u001b[38;5;28mself\u001b[39m\u001b[38;5;241m.\u001b[39mQ \u001b[38;5;241m@\u001b[39m \u001b[38;5;28mself\u001b[39m\u001b[38;5;241m.\u001b[39mG\u001b[38;5;241m.\u001b[39mT\n",
      "\u001b[0;31mIndexError\u001b[0m: index 6 is out of bounds for axis 0 with size 6"
     ]
    }
   ],
   "source": [
    "import numpy as np\n",
    "\n",
    "class ExtendedKalmanFilter:\n",
    "    def __init__(self, dt, state_dim, control_dim, measure_dim):\n",
    "        self.dt = dt  # time step\n",
    "        self.state_dim = state_dim  # dimension of the state vector\n",
    "        self.control_dim = control_dim  # dimension of the control vector\n",
    "        self.measure_dim = measure_dim  # dimension of the measurement vector\n",
    "\n",
    "        # Initialize state estimate and covariance matrix\n",
    "        self.x_hat = np.zeros(state_dim)  # state estimate\n",
    "        self.P = np.eye(state_dim)  # estimate covariance matrix\n",
    "\n",
    "        # Process and measurement noise covariance matrices\n",
    "        self.Q = np.eye(state_dim)  # process noise covariance\n",
    "        self.R = np.eye(measure_dim) * 0.001  # measurement noise covariance (small values due to high precision)\n",
    "\n",
    "        # Placeholder for the Jacobians\n",
    "        self.F = None  # state transition Jacobian\n",
    "        self.H = np.eye(measure_dim)  # measurement Jacobian is identity since we have direct position measurement\n",
    "        self.G = None  # control input Jacobian\n",
    "\n",
    "    def predict(self, u):\n",
    "        \"\"\"\n",
    "        Predict the state estimate and covariance using the control input 'u'\n",
    "        :param u: control input vector\n",
    "        \"\"\"\n",
    "        # Evaluate the state transition Jacobian F and control input Jacobian G for the current state\n",
    "        F_num = np.array(F_discrete.subs(zip(state, self.x_hat)).subs(zip(control, u))).astype(float)\n",
    "        G_num = np.array(G_discrete.subs(zip(state, self.x_hat)).subs(zip(control, u))).astype(float)\n",
    "\n",
    "        # Update Jacobians in the class\n",
    "        self.F = F_num\n",
    "        self.G = G_num\n",
    "\n",
    "        # State prediction using the discretized equations\n",
    "        # Here you would use the discretized state transition equations\n",
    "        # For simplicity, I'm using a placeholder for the state update, replace it with your discretized equations\n",
    "        self.x_hat = self.x_hat + np.array([self.x_hat[3], self.x_hat[4], self.x_hat[5],\n",
    "                                            -Kvx/self.x_hat[6] * self.x_hat[3] + u[2]/self.x_hat[6]*np.sin(u[0]),\n",
    "                                            -Kvy/self.x_hat[6] * self.x_hat[4] + u[2]/self.x_hat[6]*np.sin(u[1]),\n",
    "                                            u[2]/self.x_hat[6]*np.cos(u[0])*np.cos(u[1]) - g]) * self.dt\n",
    "\n",
    "        # Covariance prediction\n",
    "        self.P = self.F @ self.P @ self.F.T + self.G @ self.Q @ self.G.T\n",
    "\n",
    "    def update(self, z):\n",
    "        \"\"\"\n",
    "        Update the state estimate and covariance using the measurement 'z'\n",
    "        :param z: measurement vector\n",
    "        \"\"\"\n",
    "\n",
    "        # Measurement residual\n",
    "        y = z - self.H @ self.x_hat\n",
    "\n",
    "        # Kalman gain\n",
    "        S = self.H @ self.P @ self.H.T + self.R\n",
    "        K = self.P @ self.H.T @ np.linalg.inv(S)\n",
    "\n",
    "        # State update\n",
    "        self.x_hat = self.x_hat + K @ y\n",
    "\n",
    "        # Covariance update\n",
    "        I = np.eye(self.state_dim)\n",
    "        self.P = (I - K @ self.H) @ self.P\n",
    "\n",
    "# Parameters for drone EKF (to be defined based on your system)\n",
    "dt = 0.1  # time step\n",
    "state_dim = 6  # state vector dimension: x, y, z, xdot, ydot, zdot\n",
    "control_dim = 3  # control vector dimension: theta, phi, t\n",
    "measure_dim = 3  # measurement vector dimension: x, y, z\n",
    "\n",
    "# Constants (to be defined based on your system)\n",
    "Kvx = 0.1  # drag coefficient in x-direction\n",
    "Kvy = 0.1  # drag coefficient in y-direction\n",
    "m = 1.0  # mass of the drone\n",
    "g = 9.81  # acceleration due to gravity\n",
    "\n",
    "# Create an instance of the EKF for the drone\n",
    "drone_ekf = ExtendedKalmanFilter(dt, state_dim, control_dim, measure_dim)\n",
    "\n",
    "# Example usage\n",
    "# Define control input (theta, phi, thrust)\n",
    "control_input = np.array([0.1, 0.1, 5.0])\n",
    "\n",
    "# Predict step\n",
    "drone_ekf.predict(control_input)\n",
    "\n",
    "# Measurement vector (x, y, z positions)\n",
    "measurement = np.array([1.0, 1.0, 1.0])\n",
    "\n",
    "# Update step\n",
    "drone_ekf.update(measurement)\n",
    "\n",
    "# Estimated state after prediction and update\n",
    "estimated_state = drone_ekf.x_hat\n",
    "estimated_state_covariance = drone_ekf.P"
   ]
  },
  {
   "cell_type": "code",
   "execution_count": null,
   "metadata": {},
   "outputs": [],
   "source": [
    "import numpy as np\n",
    "import sympy as sp\n",
    "\n",
    "class ExtendedKalmanFilter:\n",
    "    def __init__(self, initial_state, initial_error_covariance, Ts, m, g, Kvx, Kvy):\n",
    "        self.state_estimate = np.array(initial_state)\n",
    "        self.error_covariance = np.array(initial_error_covariance)\n",
    "        self.Ts = Ts  # Time step\n",
    "        self.m = m    # Mass of the drone\n",
    "        self.g = g    # Acceleration due to gravity\n",
    "        self.Kvx = Kvx # Drag coefficient in x-direction\n",
    "        self.Kvy = Kvy # Drag coefficient in y-direction\n",
    "\n",
    "        # Define symbols for state variables and control inputs\n",
    "        x, y, z, xdot, ydot, zdot = sp.symbols('x y z xdot ydot zdot')\n",
    "        theta, phi, t = sp.symbols('theta phi t')\n",
    "        psi = sp.symbols('psi')\n",
    "        self.state_symbols = sp.Matrix([x, y, z, xdot, ydot, zdot])\n",
    "        self.control_symbols = sp.Matrix([theta, phi, t])\n",
    "\n",
    "        # Define the discrete state transition and measurement functions here\n",
    "        # ...\n",
    "\n",
    "    def compute_jacobians(self, control_input):\n",
    "        # Evaluate F and G here based on the current state and control input\n",
    "        # ...\n",
    "\n",
    "    def predict(self, control_input):\n",
    "        # Update F and G using current state and control input\n",
    "        self.compute_jacobians(control_input)\n",
    "\n",
    "        # State prediction using the discretized state transition function\n",
    "        # ...\n",
    "\n",
    "        # Covariance prediction\n",
    "        # ...\n",
    "\n",
    "    def update(self, measurement):\n",
    "        # Measurement update using H (measurement Jacobian)\n",
    "        # ...\n",
    "\n",
    "        # Return the state estimate and the Kalman gain (if needed)\n",
    "        return self.state_estimate, kalman_gain\n",
    "\n",
    "# Parameters for drone EKF\n",
    "Ts = 0.1  # Time step\n",
    "initial_state = [0, 0, 0, 0, 0, 0]  # Example initial state\n",
    "initial_error_covariance = np.eye(6)  # Initial error covariance\n",
    "m = 1.0  # Mass of the drone\n",
    "g = 9.81  # Gravity\n",
    "Kvx = 0.1  # Drag coefficient in x-direction\n",
    "Kvy = 0.1  # Drag coefficient in y-direction\n",
    "\n",
    "# Create an instance of the EKF for the drone\n",
    "drone_ekf = ExtendedKalmanFilter(initial_state, initial_error_covariance, Ts, m, g, Kvx, Kvy)\n",
    "\n",
    "# Example usage\n",
    "control_input = [0.1, 0.1, 5.0]  # Example control input (theta, phi, thrust)\n",
    "measurement = [1.0, 1.0, 1.0]  # Example measurement (x, y, z positions)\n",
    "\n",
    "# Predict and update steps\n",
    "drone_ekf.predict(control_input)\n",
    "estimated_state, kalman_gain = drone_ekf.update(measurement)\n"
   ]
  }
 ],
 "metadata": {
  "kernelspec": {
   "display_name": "Python 3",
   "language": "python",
   "name": "python3"
  },
  "language_info": {
   "codemirror_mode": {
    "name": "ipython",
    "version": 3
   },
   "file_extension": ".py",
   "mimetype": "text/x-python",
   "name": "python",
   "nbconvert_exporter": "python",
   "pygments_lexer": "ipython3",
   "version": "3.8.10"
  }
 },
 "nbformat": 4,
 "nbformat_minor": 2
}
