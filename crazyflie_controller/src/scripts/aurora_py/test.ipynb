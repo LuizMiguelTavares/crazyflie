{
 "cells": [
  {
   "cell_type": "code",
   "execution_count": 3,
   "metadata": {},
   "outputs": [],
   "source": [
    "import numpy as np\n",
    "import control\n",
    "import scipy.io\n",
    "def normalize_angle(angle):\n",
    "    while angle > np.pi:\n",
    "        angle -= 2 * np.pi\n",
    "    while angle <= -np.pi:\n",
    "        angle += 2 * np.pi\n",
    "    return angle\n",
    "\n",
    "class FeedForwardLQR():\n",
    "    def __init__(self, A, B, C, D, Q, R):    \n",
    "        # FeedForward\n",
    "        A=np.array(A)\n",
    "        B=np.array(B)\n",
    "        C=np.array(C)\n",
    "        D=np.array(D)\n",
    "        Q=np.array(Q)\n",
    "        R=np.array(R)\n",
    "        \n",
    "        A_ffw = np.vstack((np.hstack((A, B)), np.hstack((C, D))))\n",
    "        Nx_Nu = np.dot(np.linalg.pinv(A_ffw), np.vstack([np.zeros((A.shape[0], B.shape[1])), np.eye(B.shape[1])]))\n",
    "        self.Nx = Nx_Nu[:len(A), :]\n",
    "        self.Nu = Nx_Nu[len(A):, :]\n",
    "        \n",
    "        # Full-State Feedback Gain\n",
    "        self.K, _, _ = control.lqr(A, B, Q, R)\n",
    "\n",
    "    def compute_u(self, states, desired_states):\n",
    "        u = self.Nu @ np.array(desired_states) - self.K @ (np.array(states) - self.Nx @ np.array(desired_states))\n",
    "        theta, phi, thrust = u[0], u[1], u[2]\n",
    "\n",
    "        return normalize_angle(theta), normalize_angle(phi), thrust"
   ]
  },
  {
   "cell_type": "code",
   "execution_count": 5,
   "metadata": {},
   "outputs": [
    {
     "name": "stdout",
     "output_type": "stream",
     "text": [
      "Nu:  [[0.0873744 0.        0.       ]\n",
      " [0.        0.0873744 0.       ]\n",
      " [0.        0.        0.       ]]\n",
      "\n",
      "Nx:  [[1. 0. 0.]\n",
      " [0. 1. 0.]\n",
      " [0. 0. 1.]]\n"
     ]
    }
   ],
   "source": [
    "m = 0.035  # mass of the drone in kg\n",
    "g = 9.81  # gravity\n",
    "Kp = 1 # Proportional gain\n",
    "a_max = 12.4\n",
    "kvx = 0.03 \n",
    "kvy = 0.03\n",
    "kvz = 0\n",
    "\n",
    "# Matrices A, B, C, D\n",
    "A = np.array([[-kvx/m, 0, 0],\n",
    "                    [0, -kvy/m, 0],\n",
    "                    [0, 0, -kvz/m]])\n",
    "\n",
    "B = np.array([[g, 0, 0],\n",
    "                    [0, g, 0],\n",
    "                    [0, 0, 1/m]])\n",
    "\n",
    "C = np.array([[1, 0, 0],\n",
    "                    [0, 1, 0],\n",
    "                    [0, 0, 1]])\n",
    "\n",
    "D = np.zeros((C.shape[0], B.shape[1]))\n",
    "\n",
    "# LQR Matricies\n",
    "Q = np.array([[10, 0, 0],\n",
    "                    [0, 10, 0],\n",
    "                    [0, 0, 1]])\n",
    "\n",
    "R = np.array([[25, 0, 0],\n",
    "                    [0, 25, 0],\n",
    "                    [0, 0, 40]])\n",
    "\n",
    "fflqr = FeedForwardLQR(A, B, C, D, Q, R)\n",
    "\n",
    "# print Nu and Nx matrices\n",
    "\n",
    "print(\"Nu: \", fflqr.Nu)\n",
    "print()\n",
    "print(\"Nx: \", fflqr.Nx)"
   ]
  }
 ],
 "metadata": {
  "kernelspec": {
   "display_name": "Python 3",
   "language": "python",
   "name": "python3"
  },
  "language_info": {
   "codemirror_mode": {
    "name": "ipython",
    "version": 3
   },
   "file_extension": ".py",
   "mimetype": "text/x-python",
   "name": "python",
   "nbconvert_exporter": "python",
   "pygments_lexer": "ipython3",
   "version": "3.10.12"
  }
 },
 "nbformat": 4,
 "nbformat_minor": 2
}
