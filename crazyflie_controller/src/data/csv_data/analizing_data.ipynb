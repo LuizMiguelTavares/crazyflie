{
 "cells": [
  {
   "cell_type": "code",
   "execution_count": null,
   "metadata": {},
   "outputs": [],
   "source": [
    "import pandas as pd\n",
    "import matplotlib.pyplot as plt\n",
    "import os\n",
    "\n",
    "path = '/home/luiz/my_projects/crazyflie/crazyflie_controller/src/data/csv_data/balanced_04_vel05/'\n",
    "# Load the data from CSV files\n",
    "desired_position_path = os.path.join(path, 'desired_position.csv')\n",
    "position_optitrack_path = os.path.join(path, 'position_optitrack.csv')\n",
    "position_kalman_path = os.path.join(path, 'position_kalman.csv')\n",
    "\n",
    "desired_position = pd.read_csv(desired_position_path)\n",
    "position_optitrack = pd.read_csv(position_optitrack_path)\n",
    "position_kalman = pd.read_csv(position_kalman_path)\n",
    "\n",
    "# Assuming the CSVs have columns for X, Y, Z positions, we'll plot these. Adjusting based on actual column names might be needed.\n",
    "# Plotting the data\n",
    "plt.figure(figsize=(10, 7))\n",
    "\n",
    "plt.plot(desired_position['time'], desired_position['x'], label='Desired X', linestyle='--', color='blue')\n",
    "plt.plot(position_optitrack['time'], position_optitrack['x'], label='OptiTrack X', marker='o', linestyle='', markersize=4, color='red')\n",
    "plt.plot(position_kalman['time'], position_kalman['x'], label='Kalman X', linestyle='-', color='green')\n",
    "\n",
    "plt.plot(desired_position['time'], desired_position['y'], label='Desired Y', linestyle='--', color='cyan')\n",
    "plt.plot(position_optitrack['time'], position_optitrack['y'], label='OptiTrack Y', marker='o', linestyle='', markersize=4, color='magenta')\n",
    "plt.plot(position_kalman['time'], position_kalman['y'], label='Kalman Y', linestyle='-', color='yellow')\n",
    "\n",
    "plt.title('Position Comparison: Desired vs. OptiTrack vs. Kalman')\n",
    "plt.xlabel('Time (s)')\n",
    "plt.ylabel('Position')\n",
    "plt.legend()\n",
    "plt.grid(True)\n",
    "\n",
    "# Save the plot as a vectorized image (SVG format)\n",
    "vectorized_image_path = 'position_comparison.svg'\n",
    "# plt.savefig(vectorized_image_path, format='svg')\n",
    "\n",
    "vectorized_image_path\n"
   ]
  }
 ],
 "metadata": {
  "language_info": {
   "name": "python"
  }
 },
 "nbformat": 4,
 "nbformat_minor": 2
}
